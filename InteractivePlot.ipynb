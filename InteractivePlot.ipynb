{
 "cells": [
  {
   "cell_type": "markdown",
   "metadata": {},
   "source": [
    "# Interactive Plot\n",
    "\n",
    "Load and listen to Data:"
   ]
  },
  {
   "cell_type": "code",
   "execution_count": 94,
   "metadata": {},
   "outputs": [
    {
     "name": "stdout",
     "output_type": "stream",
     "text": [
      "f_s = 22050\n"
     ]
    },
    {
     "data": {
      "text/html": [
       "\n",
       "                <audio controls=\"controls\" >\n",
       "                    <source src=\"data:audio/wav;base64,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\" type=\"audio/wav\" />\n",
       "                    Your browser does not support the audio element.\n",
       "                </audio>\n",
       "              "
      ],
      "text/plain": [
       "<IPython.lib.display.Audio object>"
      ]
     },
     "execution_count": 94,
     "metadata": {},
     "output_type": "execute_result"
    }
   ],
   "source": [
    "from scipy import signal\n",
    "import matplotlib.pyplot as plt\n",
    "import ipywidgets as widgets\n",
    "from ipywidgets import interact, interact_manual\n",
    "import librosa\n",
    "import IPython.display as ipd\n",
    "import numpy as np\n",
    "\n",
    "\n",
    "audio1, fs = librosa.load('a_8000.wav')\n",
    "print(\"f_s =\", fs)\n",
    "ipd.Audio('a_8000.wav') # show audio player"
   ]
  },
  {
   "cell_type": "markdown",
   "metadata": {},
   "source": [
    "Display Spectrogram of Data:"
   ]
  },
  {
   "cell_type": "code",
   "execution_count": 131,
   "metadata": {},
   "outputs": [],
   "source": [
    "window='hann'\n",
    "windowlength = 1024\n",
    "overlap = windowlength/2\n",
    "\n",
    "fVec, tVec, spectroData = signal.spectrogram(audio1, fs, window=window, nperseg=windowlength, noverlap=overlap)\n",
    "frameVec = np.array(range(len(tVec)))\n",
    "\n",
    "index = (np.abs(fVec - 1500)).argmin()\n",
    "spectroData = np.delete(spectroData, range(index, len(spectroData)), 0)\n",
    "fVec = np.delete(fVec, range(index, len(fVec)))\n",
    "\n",
    "\n",
    "spectroData = np.divide(spectroData, np.max(spectroData))"
   ]
  },
  {
   "cell_type": "code",
   "execution_count": 134,
   "metadata": {},
   "outputs": [
    {
     "data": {
      "application/vnd.jupyter.widget-view+json": {
       "model_id": "5ba62a0e2714409789b42b8442d455b8",
       "version_major": 2,
       "version_minor": 0
      },
      "text/plain": [
       "interactive(children=(IntSlider(value=15, description='stft_frame', max=29, min=1), Button(description='Run In…"
      ]
     },
     "metadata": {},
     "output_type": "display_data"
    }
   ],
   "source": [
    "\n",
    "    \n",
    "@interact_manual\n",
    "def choose_stft_frame(stft_frame=(1, len(tVec), 1)):\n",
    "    plt.pcolormesh(frameVec, fVec, spectroData)\n",
    "    plt.ylabel('Frequency in Hz')\n",
    "    plt.xlabel('STFT Frame')\n",
    "    plt.axvline(x=stft_frame)\n",
    "    plt.show()\n",
    "    plt.plot(fVec, spectroData[:,stft_frame])\n",
    "    plt.xlabel('Frequency in Hz')\n",
    "    plt.ylabel('Magnitude')\n",
    "    return stft_frame\n"
   ]
  },
  {
   "cell_type": "code",
   "execution_count": null,
   "metadata": {},
   "outputs": [],
   "source": []
  }
 ],
 "metadata": {
  "kernelspec": {
   "display_name": "Python 3",
   "language": "python",
   "name": "python3"
  },
  "language_info": {
   "codemirror_mode": {
    "name": "ipython",
    "version": 3
   },
   "file_extension": ".py",
   "mimetype": "text/x-python",
   "name": "python",
   "nbconvert_exporter": "python",
   "pygments_lexer": "ipython3",
   "version": "3.7.3"
  }
 },
 "nbformat": 4,
 "nbformat_minor": 2
}
